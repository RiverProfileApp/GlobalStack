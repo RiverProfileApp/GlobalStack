{
 "cells": [
  {
   "cell_type": "code",
   "execution_count": 3,
   "id": "74889793",
   "metadata": {},
   "outputs": [],
   "source": [
    "import numpy as np\n",
    "import matplotlib.pyplot as plt\n",
    "import rasterio as rio\n",
    "from numba import jit\n",
    "from rasterio.merge import merge\n",
    "from globalstack_functions import h_flowdir, pq, sinkfill, stack_bilinear\n",
    "%load_ext autoreload\n",
    "%autoreload 2"
   ]
  },
  {
   "cell_type": "markdown",
   "id": "e4d383ee",
   "metadata": {},
   "source": [
    "## For custom flow routing.  This section prepares the grids for what I called the 'd8' flow routing method based on pit-filled grids created using the create_pit_filled.py scipt. Skip this step if using HydroSHEDS.  Otherwise, you will need to run create_pit_filled.py first, which takes the longest by far.  Ideally you would run this script on a computer with a lot of memory.  "
   ]
  },
  {
   "cell_type": "code",
   "execution_count": null,
   "id": "693dcd97",
   "metadata": {},
   "outputs": [],
   "source": [
    "Z = np.load('/Volumes/Samsung_T5/eu/others/dem.npy',mmap_mode='r')#[20000:25000,20000:25000]"
   ]
  },
  {
   "cell_type": "code",
   "execution_count": null,
   "id": "3f5ed6c0",
   "metadata": {},
   "outputs": [],
   "source": [
    "sx, sy = slp(Z)"
   ]
  },
  {
   "cell_type": "code",
   "execution_count": null,
   "id": "80eacb95",
   "metadata": {},
   "outputs": [],
   "source": [
    "np.save('/Volumes/Samsung_T5/stack_rx',sx)"
   ]
  },
  {
   "cell_type": "code",
   "execution_count": null,
   "id": "109d271a",
   "metadata": {},
   "outputs": [],
   "source": [
    "np.save('/Volumes/Samsung_T5//stack_ry',sy)"
   ]
  },
  {
   "cell_type": "code",
   "execution_count": null,
   "id": "8c2dc813",
   "metadata": {},
   "outputs": [],
   "source": [
    "del(sx)\n",
    "del(sy)"
   ]
  },
  {
   "cell_type": "code",
   "execution_count": 21,
   "id": "c7ac26fb",
   "metadata": {},
   "outputs": [
    {
     "data": {
      "text/plain": [
       "0.6430145801697291"
      ]
     },
     "execution_count": 21,
     "metadata": {},
     "output_type": "execute_result"
    }
   ],
   "source": [
    "np.max(Z-a)"
   ]
  },
  {
   "cell_type": "markdown",
   "id": "a0a74e64",
   "metadata": {},
   "source": [
    "## This nb generates the grids used in RiverProfileApp"
   ]
  },
  {
   "cell_type": "markdown",
   "id": "8b6f2041",
   "metadata": {},
   "source": [
    "### Download and unzip all GRID data from Hydrosheds Copy the cell below into the QGIS python console to load. Use qgis to merge the tiles into a 'dir.tif' grid with 16 bit int"
   ]
  },
  {
   "cell_type": "code",
   "execution_count": null,
   "id": "df3f89c2",
   "metadata": {},
   "outputs": [],
   "source": [
    "#Qgis add all lyr\n",
    "\n",
    "import os\n",
    "dir1 = '/Users/gr_1/Documents/DEM_3s_GRID/as_dem_3s_zip_grid///'\n",
    "n1=0\n",
    "for nm in os.listdir(dir1): \n",
    "    if not('.' in nm):\n",
    "        fs = os.listdir(dir1+nm)\n",
    "        for f in fs:\n",
    "            if not '.' in f:\n",
    "                iface.addRasterLayer(dir1+'/'+nm+'/'+f)"
   ]
  },
  {
   "cell_type": "markdown",
   "id": "4def3856",
   "metadata": {},
   "source": [
    "### Prepare the receiver grids - load in the direction grid"
   ]
  },
  {
   "cell_type": "markdown",
   "id": "29629989",
   "metadata": {},
   "source": [
    "##And open the tif with the drainage directions "
   ]
  },
  {
   "cell_type": "code",
   "execution_count": null,
   "id": "a80f4c13",
   "metadata": {},
   "outputs": [],
   "source": [
    "f = rio.open('/Volumes/Samsung_T5/au/')\n",
    "a_sub=f.read()\n",
    "a_sub = np.uint16(a_sub.squeeze()) # Need to squeeze to remove extra dimension\n",
    "a_sub = zero_edges(a_sub)"
   ]
  },
  {
   "cell_type": "code",
   "execution_count": null,
   "id": "459309ce",
   "metadata": {},
   "outputs": [],
   "source": [
    "lb = f.bounds.left  # These bounds are used by RPA, we input them into the global variables at the beginning of profiler_app.py\n",
    "ub = f.bounds.top"
   ]
  },
  {
   "cell_type": "code",
   "execution_count": null,
   "id": "a10a9330",
   "metadata": {},
   "outputs": [],
   "source": [
    "## Now we convert hydrosheds drainage direction to x and y"
   ]
  },
  {
   "cell_type": "code",
   "execution_count": null,
   "id": "1268db41",
   "metadata": {},
   "outputs": [],
   "source": [
    "sx, sy = h_flowdir(a_sub);"
   ]
  },
  {
   "cell_type": "code",
   "execution_count": null,
   "id": "51796572",
   "metadata": {},
   "outputs": [],
   "source": [
    "np.save('/Volumes/T7/stack_rx2.npy',sx)\n",
    "np.save('/Volumes/T7/stack_ry2.npy',sy)"
   ]
  },
  {
   "cell_type": "code",
   "execution_count": null,
   "id": "15965314",
   "metadata": {},
   "outputs": [],
   "source": [
    "del(sy)## Considerable memory allocation may require deletion, then we reload as memory mapped grids\n",
    "del(sx)\n",
    "del(a_sub)"
   ]
  },
  {
   "cell_type": "markdown",
   "id": "022ca43c",
   "metadata": {},
   "source": [
    "## reload as memory mapped grids"
   ]
  },
  {
   "cell_type": "code",
   "execution_count": null,
   "id": "47c55f86",
   "metadata": {},
   "outputs": [],
   "source": [
    "sx = np.load('/Volumes/{}/{}/rs/stack_rx.npy'.format(disk,folder),mmap_mode='r')\n",
    "sy = np.load('/Volumes/{}/{}/rs/stack_ry.npy'.format(disk,folder),mmap_mode='r')"
   ]
  },
  {
   "cell_type": "code",
   "execution_count": null,
   "id": "a9b8ea60",
   "metadata": {},
   "outputs": [],
   "source": [
    "#np.load('/Volumes/Samsung_T5/Af_ac.tif.npy', mmap_mode='r')"
   ]
  },
  {
   "cell_type": "markdown",
   "id": "2a5ae7a6",
   "metadata": {},
   "source": [
    "## Now we caluclate the stack "
   ]
  },
  {
   "cell_type": "code",
   "execution_count": null,
   "id": "9e7a641a",
   "metadata": {},
   "outputs": [],
   "source": [
    "Iy, Ix = stack_bilinear(sx, sy)"
   ]
  },
  {
   "cell_type": "code",
   "execution_count": null,
   "id": "fd4a5373",
   "metadata": {},
   "outputs": [],
   "source": [
    "np.save('/Volumes/{}/{}/sa_Iy'.format(disk,folder), Iy)"
   ]
  },
  {
   "cell_type": "code",
   "execution_count": null,
   "id": "65f944cb",
   "metadata": {},
   "outputs": [],
   "source": [
    "np.save('/Volumes/{}/{}/sa_IX'.format(disk,folder), Ix)"
   ]
  },
  {
   "cell_type": "code",
   "execution_count": null,
   "id": "a63941dd",
   "metadata": {},
   "outputs": [],
   "source": [
    "del(Ix)"
   ]
  },
  {
   "cell_type": "code",
   "execution_count": null,
   "id": "6f4e62f7",
   "metadata": {},
   "outputs": [],
   "source": [
    "del(Iy)"
   ]
  },
  {
   "cell_type": "markdown",
   "id": "e79d858b",
   "metadata": {},
   "source": [
    "## The beginning of acc caluclation"
   ]
  },
  {
   "cell_type": "code",
   "execution_count": null,
   "id": "0f72d760",
   "metadata": {},
   "outputs": [],
   "source": [
    "size = (96000, 94800) # Africa\n",
    "size = (84000, 232800) # Asia\n",
    "size = np.shape(sx)"
   ]
  },
  {
   "cell_type": "code",
   "execution_count": null,
   "id": "db530808",
   "metadata": {},
   "outputs": [],
   "source": [
    "Ix = np.load('/Volumes/Samsung_T5/sa/sa_Ix.npy', mmap_mode='r')\n",
    "Iy = np.load('/Volumes/Samsung_T5/sa/sa_Iy.npy', mmap_mode='r')\n",
    "#sx = np.load('/Volumes/T7/stack_rx.npy', mmap_mode='r')\n",
    "#sy = np.load('/Volumes/T7/stack_ry.npy', mmap_mode='r')"
   ]
  },
  {
   "cell_type": "code",
   "execution_count": null,
   "id": "1261c785",
   "metadata": {
    "scrolled": true,
    "tags": []
   },
   "outputs": [],
   "source": [
    "#size = (96000, 94800)\n",
    "A = acc(sx, sy, Ix, Iy, size)"
   ]
  },
  {
   "cell_type": "code",
   "execution_count": null,
   "id": "0cd39a4a",
   "metadata": {},
   "outputs": [],
   "source": [
    "np.save('/Volumes/Samsung_S5/na/acc', A)"
   ]
  },
  {
   "cell_type": "code",
   "execution_count": null,
   "id": "2a93364a",
   "metadata": {},
   "outputs": [],
   "source": [
    "del(A)"
   ]
  },
  {
   "cell_type": "code",
   "execution_count": null,
   "id": "36ad8d41",
   "metadata": {},
   "outputs": [],
   "source": [
    "import geopandas as gpd"
   ]
  },
  {
   "cell_type": "code",
   "execution_count": null,
   "id": "9cd41b17",
   "metadata": {},
   "outputs": [],
   "source": [
    "a = gpd.read_file('/Users/gr_1/Documents/streamprofiler/af_bound')"
   ]
  },
  {
   "cell_type": "code",
   "execution_count": null,
   "id": "dae4ae97",
   "metadata": {},
   "outputs": [],
   "source": [
    "a.to_file('/Users/gr_1/Documents/af',driver='GeoJSON')"
   ]
  },
  {
   "cell_type": "code",
   "execution_count": null,
   "id": "4c6eb7ab",
   "metadata": {},
   "outputs": [],
   "source": [
    "str(a.to_json())"
   ]
  },
  {
   "cell_type": "markdown",
   "id": "41b5342b",
   "metadata": {},
   "source": [
    "## Brief Test"
   ]
  },
  {
   "cell_type": "markdown",
   "id": "30c6a72b",
   "metadata": {},
   "source": [
    "## Erates"
   ]
  },
  {
   "cell_type": "code",
   "execution_count": null,
   "id": "371e8569",
   "metadata": {},
   "outputs": [],
   "source": [
    "disk = 'Samsung_T5'\n",
    "folder = 'na'\n",
    "Ix = np.load('/Volumes/{}/{}/sa_Ix.npy'.format(disk,folder), mmap_mode='r')\n",
    "Iy = np.load('/Volumes/{}/{}/sa_Iy.npy'.format(disk,folder), mmap_mode='r')\n",
    "#\n",
    "sx = np.load('/Volumes/{}/{}/rs/stack_rx.npy'.format(disk,folder),mmap_mode='r')\n",
    "sy = np.load('/Volumes/{}/{}/rs/stack_ry.npy'.format(disk,folder),mmap_mode='r')\n",
    "Acc = np.load('/Volumes/{}/{}/others/acc.npy'.format(disk,folder),mmap_mode='r')\n",
    "Z = np.load('/Volumes/{}/{}/others/dem.npy'.format(disk,folder), mmap_mode='r')\n",
    "#Ef = np.load('/Volumes/{}/{}/Ef.npy'.format(disk,folder), mmap_mode='r')\n",
    "\n",
    "#A = np.load('/Volumes/T7/zipped/eu/ot')"
   ]
  },
  {
   "cell_type": "code",
   "execution_count": null,
   "id": "d7aeefbc",
   "metadata": {},
   "outputs": [],
   "source": [
    "## Condition DEM??\n",
    "@jit(nopython=True)\n",
    "def condition():\n",
    "    Zn = np.copy(Z)\n",
    "    for i in range(len(Ix)):\n",
    "        ry = Iy[i] + sy[Iy[i], Ix[i]]\n",
    "        rx = Ix[i] + sx[Iy[i], Ix[i]]\n",
    "        if Zn[0,Iy[i], Ix[i]] <= Zn[0,ry, rx] and Zn[0,ry,rx] >0:\n",
    "            Zn[0,Iy[i], Ix[i]] = Zn[0,ry,rx]+1e-8\n",
    "        if np.mod(i,1e6) ==0:\n",
    "            print(i/len(Ix))\n",
    "    return Zn"
   ]
  },
  {
   "cell_type": "code",
   "execution_count": null,
   "id": "e436e055",
   "metadata": {
    "scrolled": true,
    "tags": []
   },
   "outputs": [],
   "source": [
    "Zn = condition()"
   ]
  },
  {
   "cell_type": "code",
   "execution_count": null,
   "id": "1e47749b",
   "metadata": {},
   "outputs": [],
   "source": [
    "Z = np.save('/Volumes/{}/{}//Zn.npy'.format(disk,folder),Zn)"
   ]
  },
  {
   "cell_type": "code",
   "execution_count": null,
   "id": "0aff0c44",
   "metadata": {},
   "outputs": [],
   "source": [
    "Z = np.load('/Volumes/{}/{}//Zn.npy'.format(disk,folder),mmap_mode='r')"
   ]
  },
  {
   "cell_type": "code",
   "execution_count": null,
   "id": "0b4a3539",
   "metadata": {},
   "outputs": [],
   "source": [
    "E = np.zeros(np.shape(Acc),dtype=np.float32)"
   ]
  },
  {
   "cell_type": "code",
   "execution_count": null,
   "id": "784ced61",
   "metadata": {},
   "outputs": [],
   "source": [
    "erat = np\n",
    "@jit(nopython=True)\n",
    "\n",
    "def ero_f(E):\n",
    "    k = 1e-6\n",
    "    n = 2.06\n",
    "    m = n / 2\n",
    "    maxs=0\n",
    "    count = 0\n",
    "    #D / k = 4493\n",
    "    summ = 0\n",
    "    \n",
    "    ny,nx = np.shape(E)\n",
    "    for i in range(int((len(Ix)))):\n",
    "        ry = Iy[i] + sy[Iy[i], Ix[i]]\n",
    "        rx = Ix[i] + sx[Iy[i], Ix[i]]\n",
    "        if (Acc[Iy[i], Ix[i]] <=12 or Ix[i] < 3 or Iy[i] < 3 or Iy[i] > ny-3 or Ix[i] > nx -3):\n",
    "            continue\n",
    "        lat = 60.0 - Iy[i] * 1/1200\n",
    "\n",
    "        dx = np.cos(np.abs(lat) / 180 * np.pi) * (1852/60) * 3\n",
    "        dy = 92.6\n",
    "        dl = np.sqrt(((Iy[i] - ry) * dy) ** 2.0 + ((Ix[i] - rx) * dx)**2 )\n",
    "        fact = (dx*dy)**m * k\n",
    "\n",
    "        if dl ==0:\n",
    "            continue\n",
    "        s = (Z[0,Iy[i], Ix[i]] - Z[0,ry, rx]) / (dl)\n",
    "        u = 1\n",
    "        if s < 0:\n",
    "            u = -1\n",
    "            s = -s\n",
    "        #s = s / 2 + np.abs(s) / 2\n",
    "       # print(k * Acc[Iy[i], Ix[i]]**m * (dx*dy)**m * s**n)\n",
    "        e = u* fact * Acc[Iy[i], Ix[i]] ** m * s ** n\n",
    "        if e>2000:\n",
    "            e = 2000\n",
    "        if e<-2000:\n",
    "            e = -2000\n",
    "        if e > maxs:\n",
    "            maxs = e\n",
    "            #print(Acc[Iy[i], Ix[i]])\n",
    "            #print(s)\n",
    "        E[Iy[i], Ix[i]] = e\n",
    "        summ += e #E[Iy[i], Ix[i]]\n",
    "        if np.mod(i, 1000000) == 0:\n",
    "            print(i/len(Ix))\n",
    "            print(summ)\n",
    "            #print(count)\n",
    "    return E"
   ]
  },
  {
   "cell_type": "code",
   "execution_count": null,
   "id": "7fa1e0ab",
   "metadata": {
    "scrolled": true,
    "tags": []
   },
   "outputs": [],
   "source": [
    "E = ero_f(E)"
   ]
  },
  {
   "cell_type": "code",
   "execution_count": null,
   "id": "a59bf5a0",
   "metadata": {},
   "outputs": [],
   "source": [
    "np.save('/Volumes/{}/{}//Ef.npy'.format(disk,folder),E)"
   ]
  },
  {
   "cell_type": "code",
   "execution_count": null,
   "id": "92605222",
   "metadata": {},
   "outputs": [],
   "source": [
    "e2[np.isnan(e2)] = 0"
   ]
  },
  {
   "cell_type": "code",
   "execution_count": null,
   "id": "78469811",
   "metadata": {},
   "outputs": [],
   "source": [
    "plt.imshow(e2,vmin=-.1,vmax=.1)"
   ]
  },
  {
   "cell_type": "markdown",
   "id": "84b6497f",
   "metadata": {},
   "source": [
    "##### e[10000:15000,10000:15000]"
   ]
  },
  {
   "cell_type": "code",
   "execution_count": null,
   "id": "689613f7",
   "metadata": {},
   "outputs": [],
   "source": [
    "ny, nx = np.shape(sx)\n",
    "E = np.zeros((ny, nx),dtype=np.float32)"
   ]
  },
  {
   "cell_type": "code",
   "execution_count": null,
   "id": "97757d1c",
   "metadata": {},
   "outputs": [],
   "source": [
    "@jit(nopython=True)\n",
    "def diffuse(E, D, dt):\n",
    "    ny, nx = np.shape(sy)\n",
    "    dy = 92.6\n",
    "    e=0\n",
    "    summ =0\n",
    "    for i in range(1, ny - 1):\n",
    "        lat = 60.0 - i * 1/1200  ### set to top lognitude\n",
    "        dx = np.cos(np.abs(lat) / 180 * np.pi) * (1852/60) * 3\n",
    "        print(dx)\n",
    "        for j in range(1, nx - 1):\n",
    "            e= D * ((2 * Z[0, i, j] -\n",
    "                            Z[0, i + 1, j] -\n",
    "                            Z[0, i - 1, j]) /\n",
    "                           (dy ** 2) +\n",
    "                           (2 * Z[0, i, j] - Z[0, i, j + 1] - Z[0, i, j - 1])\n",
    "                           / (dx ** 2))\n",
    "            E[i, j] = e\n",
    "            summ += (np.abs(e) + e)/2\n",
    "            if j%50000 == 0:\n",
    "                print(i/ny)\n",
    "                print(summ)\n",
    "            \n",
    "    E *= dt\n",
    "    print(summ)\n",
    "    return E"
   ]
  },
  {
   "cell_type": "code",
   "execution_count": null,
   "id": "6b61b2b0",
   "metadata": {
    "scrolled": true,
    "tags": []
   },
   "outputs": [],
   "source": [
    "E = diffuse(E, 1e-6*4552, 1)"
   ]
  },
  {
   "cell_type": "code",
   "execution_count": null,
   "id": "bd1f106f",
   "metadata": {},
   "outputs": [],
   "source": [
    "np.save('/Volumes/{}/{}//E.npy'.format(disk,folder), E)"
   ]
  },
  {
   "cell_type": "code",
   "execution_count": null,
   "id": "5fdb32f5",
   "metadata": {},
   "outputs": [],
   "source": [
    "@jit(nopython=True)\n",
    "def calcsum():\n",
    "    summ = 0\n",
    "    ny, nx = np.shape(e1)\n",
    "    for i in range(1, ny - 1):\n",
    "        for j in range(1, nx - 1):\n",
    "            summ += (np.abs(e1[i, j]) + e1[i, j])/2 + e2[i, j]\n",
    "    return(summ)\n",
    "summ = calcsum()"
   ]
  },
  {
   "cell_type": "code",
   "execution_count": null,
   "id": "ceab46be",
   "metadata": {},
   "outputs": [],
   "source": [
    "@jit(nopython=True)\n",
    "def calcsum():\n",
    "    summ = 0\n",
    "    ny, nx = np.shape(e1)\n",
    "    for i in range(1, ny - 1):\n",
    "        for j in range(1, nx - 1):\n",
    "            summ += (np.abs(e2[i, j]) + e2[i, j])/2 \n",
    "    return(summ)"
   ]
  },
  {
   "cell_type": "code",
   "execution_count": null,
   "id": "7f80e014",
   "metadata": {},
   "outputs": [],
   "source": [
    "e2 = np.load('/Volumes/{}/{}/e.npy'.format(disk,folder),mmap_mode='r')"
   ]
  },
  {
   "cell_type": "code",
   "execution_count": null,
   "id": "bb454d69",
   "metadata": {
    "scrolled": true,
    "tags": []
   },
   "outputs": [],
   "source": [
    "#elev\n",
    "@jit()\n",
    "def ep():\n",
    "    ny, nx = np.shape(e2)\n",
    "    sum0=0\n",
    "    sum1=0\n",
    "    sum2=0\n",
    "    sum3=0\n",
    "    sum4=0\n",
    "    n0=0\n",
    "    n1=0\n",
    "    n2=0\n",
    "    n3=0\n",
    "    n4=0\n",
    "    dy = 92.5\n",
    "    for i in range(ny):\n",
    "        lat = 60.0 - i * 1/1200  ### set to top lognitude\n",
    "        dx = np.cos(np.abs(lat) / 180 * np.pi) * (1852/60) * 3\n",
    "        #print(dx)\n",
    "        for j in range(nx):\n",
    "            er = e2[i, j]*dx*dy\n",
    "            if er<0:\n",
    "                er=0\n",
    "\n",
    "            \n",
    "            z = Z[0, i, j]\n",
    "            if z<0:\n",
    "                continue\n",
    "            if z > 0 and z <= 500:\n",
    "                sum0 += er\n",
    "                n0 +=1\n",
    "            if z > 500 and z <= 1000:\n",
    "                sum1 += er\n",
    "                n1+=1\n",
    "            if z > 1000 and z <= 2500:\n",
    "                sum2 += er\n",
    "                n2+=1\n",
    "            if z > 2500 and z <= 4000:\n",
    "                sum3 += er\n",
    "                n3+=1\n",
    "            if z> 4000:\n",
    "                sum4 += er\n",
    "                n4+=1\n",
    "    return [sum0, sum1, sum2, sum3, sum4]\n",
    "l = ep()"
   ]
  },
  {
   "cell_type": "code",
   "execution_count": null,
   "id": "9164e985",
   "metadata": {},
   "outputs": [],
   "source": [
    "#slope\n",
    "@jit()\n",
    "def ep():\n",
    "    ny, nx = np.shape(e2)\n",
    "    sum0=0\n",
    "    sum1=0\n",
    "    sum2=0\n",
    "    sum3=0\n",
    "    sum4=0\n",
    "    n0=0\n",
    "    n1=0\n",
    "    n2=0\n",
    "    n3=0\n",
    "    n4=0\n",
    "    dy = 92.5\n",
    "    for i in range(ny):\n",
    "        lat = 60.0 - i * 1/1200  ### set to top lognitude\n",
    "        dx = np.cos(np.abs(lat) / 180 * np.pi) * (1852/60) * 3\n",
    "        dy = 92.6\n",
    "        \n",
    "        #print(dx)\n",
    "        \n",
    "        for j in range(nx):\n",
    "            er = e2[i, j]*dx*dy\n",
    "            i2 = sy[i,j] + i\n",
    "            j2 = sx[i,j] + j\n",
    "            dist = np.sqrt(((i - i2)*dy)**2 + ((j-j2)*dx)**2)\n",
    "            \n",
    "            if er<0:\n",
    "                er=0\n",
    "\n",
    "            \n",
    "            z = Z[0, i, j]\n",
    "            z2 = Z[0, i2, j2]\n",
    "            s = (z-z2)/dx\n",
    "            if s >= 0 and s <= .1:\n",
    "                sum0 += er\n",
    "                n0 +=1\n",
    "            if s > .1 and s <= 1:\n",
    "                sum2 += er\n",
    "                n2+=1\n",
    "            if s > 1:\n",
    "                sum3 += er\n",
    "                n3+=1\n",
    "   \n",
    "    return [sum0, sum1, sum2, sum3, sum4], [n0,n1,n2,n3,n4]\n",
    "l = ep()"
   ]
  },
  {
   "cell_type": "code",
   "execution_count": null,
   "id": "c0634624",
   "metadata": {},
   "outputs": [],
   "source": [
    "l"
   ]
  },
  {
   "cell_type": "code",
   "execution_count": null,
   "id": "d1ef6787",
   "metadata": {},
   "outputs": [],
   "source": [
    "l1s = []\n",
    "l2s = []"
   ]
  },
  {
   "cell_type": "code",
   "execution_count": null,
   "id": "a897abdd",
   "metadata": {},
   "outputs": [],
   "source": [
    "(sum(l1) +sum(l2)) * .51 * 2.3 /1e12 * 2400/100"
   ]
  },
  {
   "cell_type": "code",
   "execution_count": null,
   "id": "fb3a5623",
   "metadata": {},
   "outputs": [],
   "source": [
    "#Asia\n",
    "l1 = [35606913966.23573, 0.0, 180764528827.63324, 26513995568.252655, 0.0]\n",
    " #[16388669297, 0, 2531939123, 94760001, 0])\n",
    "\n",
    "l2 = [32862239142.32389, 0.0, 108664402731.8776, 16960568645.82187, 0.0]\n",
    "# [16388669297, 0, 2531939123, 94760001, 0])\n",
    "l1 = np.array(l1)\n",
    "l2 = np.array(l2)\n",
    "l2s.append(l2)\n",
    "l1s.append(l1)"
   ]
  },
  {
   "cell_type": "code",
   "execution_count": null,
   "id": "989b54e6",
   "metadata": {},
   "outputs": [],
   "source": [
    "#Aus \n",
    "l1 = [3868802281.3529835, 0.0, 4959187705.169707, 293735229.85617614, 0.0]\n",
    "# [4222754220, 0, 146189582, 2586137, 0])\n",
    "\n",
    "l2 = [8082546.014218119, 0.0, 6648300.472072207, 482836.5276691823, 0.0]\n",
    "# [4222754220, 0, 146189582, 2586137, 0])\n",
    "l1 = np.array(l1)\n",
    "l2 = np.array(l2)\n",
    "l2s.append(l2* 1000)\n",
    "l1s.append(l1) "
   ]
  },
  {
   "cell_type": "code",
   "execution_count": null,
   "id": "ad835907",
   "metadata": {},
   "outputs": [],
   "source": [
    "#Af\n",
    "l1 =    [34449409612.48713, 0.0, 27740889432.914272, 6882989346.678329, 0.0]\n",
    "  #   [7404345658, 0, 578759449, 7605091, 0])\n",
    "l2 =   [39488366.428432055, 0.0, 29485494.850450497, 1646821.374632989, 0.0]\n",
    "     #[7404345658, 0, 578759449, 7605091, 0])\n",
    "l1 = np.array(l1)\n",
    "l2 = np.array(l2)\n",
    "l2s.append(l2)\n",
    "l1s.append(l1)"
   ]
  },
  {
   "cell_type": "code",
   "execution_count": null,
   "id": "b55b3fb9",
   "metadata": {},
   "outputs": [],
   "source": [
    "sum(l2)/sum(l1)"
   ]
  },
  {
   "cell_type": "code",
   "execution_count": null,
   "id": "3d265348",
   "metadata": {},
   "outputs": [],
   "source": [
    "#Na\n",
    "l1 = [13731378198.030537, 0.0, 46065644307.39387, 4205185143.059032, 0.0]\n",
    " #[6311155310, 0, 811488921, 34020891, 0])\n",
    "\n",
    "\n",
    "# [6311155310, 0, 811488921, 34020891, 0])\n",
    "l1 = np.array(l1)\n",
    "l2 = np.array(l2)\n",
    "l2s.append(l2* 1000) \n",
    "l1s.append(l1)\n"
   ]
  },
  {
   "cell_type": "code",
   "execution_count": null,
   "id": "db945c39",
   "metadata": {},
   "outputs": [],
   "source": [
    "#Sa\n",
    "l1 = [12362150746.902735, 0.0, 56575070812.39045, 8192751360.001698, 0.0]\n",
    " #[5316456410, 0, 692078079, 23819971, 0])\n",
    "\n",
    "\n",
    "l2 =[13264732.166475572, 0.0, 34582520.14444802, 4962060.7614813605, 0.0]\n",
    "# [5316456410, 0, 692078079, 23819971, 0])\n",
    "\n",
    "l1 = np.array(l1)\n",
    "l2 = np.array(l2)\n",
    "l2s.append(l2* 1000) \n",
    "l1s.append(l1)\n",
    "\n"
   ]
  },
  {
   "cell_type": "code",
   "execution_count": null,
   "id": "09c253a1",
   "metadata": {},
   "outputs": [],
   "source": [
    "l1sum = 0.0\n",
    "l2sum = 0.0\n",
    "for i in range(0,len(l1s)):\n",
    "    l1 = np.array(l1s[i])\n",
    "    l2 = np.array(l2s[i])\n",
    "    \n",
    "    l1sum += l1\n",
    "    l2sum += l2"
   ]
  },
  {
   "cell_type": "code",
   "execution_count": null,
   "id": "210d6f0d",
   "metadata": {},
   "outputs": [],
   "source": [
    "sum(l1sum+l2sum)  / 1e12 / 100 * 2700   * .51 * 2.3"
   ]
  },
  {
   "cell_type": "code",
   "execution_count": null,
   "id": "f2014e6d",
   "metadata": {},
   "outputs": [],
   "source": [
    "sum(l1)"
   ]
  },
  {
   "cell_type": "code",
   "execution_count": null,
   "id": "a729daf6",
   "metadata": {},
   "outputs": [],
   "source": [
    ".003/1000 * 510e6 * 2400 / 1e9 * 1e6 * .3"
   ]
  },
  {
   "cell_type": "code",
   "execution_count": null,
   "id": "849a43d9",
   "metadata": {},
   "outputs": [],
   "source": [
    "1.32647322e+10 / 3.77065868e+11"
   ]
  },
  {
   "cell_type": "code",
   "execution_count": null,
   "id": "3da7c288",
   "metadata": {},
   "outputs": [],
   "source": [
    "l1s = []\n",
    "l2s = []"
   ]
  },
  {
   "cell_type": "code",
   "execution_count": null,
   "id": "326680d0",
   "metadata": {},
   "outputs": [],
   "source": [
    "@jit()\n",
    "def deprecate():\n",
    "    ny, nx = np.shape(Z[0,:,:])\n",
    "    print(ny)\n",
    "    fact = 100\n",
    "    z = np.zeros((int(ny/fact)+1,int(nx/fact)+1))\n",
    "    for i in range(0,ny,fact):\n",
    "        for j in range(0,nx,fact):\n",
    "            z[int(i/fact)+1,int(j/fact)+1] = Z[0,i,j]\n",
    "    return z\n",
    "        "
   ]
  },
  {
   "cell_type": "code",
   "execution_count": null,
   "id": "56ac920f",
   "metadata": {},
   "outputs": [],
   "source": [
    "plt.imshow(deprecate())"
   ]
  },
  {
   "cell_type": "code",
   "execution_count": null,
   "id": "41ddc78d",
   "metadata": {},
   "outputs": [],
   "source": [
    "## Asia\n",
    "\n",
    "#fluvial\n",
    "l1 = [50774996120.465225,\n",
    " 47282695412.81846,\n",
    " 81329288596.249,\n",
    " 46632212468.130905,\n",
    " 16247242524.561226]\n",
    "\n",
    "\n",
    "#diffusion\n",
    "l2 = [53849736042.111496,\n",
    " 34622039732.69555,\n",
    " 44429869448.106125,\n",
    " 12390034902.692486,\n",
    " 12954441805.785233]\n",
    "l2s.append(l2)\n",
    "l1s.append(l1)"
   ]
  },
  {
   "cell_type": "code",
   "execution_count": null,
   "id": "31330fc6",
   "metadata": {},
   "outputs": [],
   "source": [
    "#NA\n",
    "\n",
    "#fluvial\n",
    "l1 = [22090045018.558407,\n",
    " 16126997023.134878,\n",
    " 24445508476.27974,\n",
    " 1207827295.7407196,\n",
    " 1484109.9649295697]\n",
    "\n",
    "l1s.append(l1)\n",
    "\n",
    "#diffusion\n",
    "l2 = [18540757.828004587,\n",
    " 9293283.953959662,\n",
    " 17025284.73091651,\n",
    " 1894050.1666102153,\n",
    " 9302.58162506381]\n",
    "l2 = [i *1000 for i in l2]\n",
    "l2s.append(l2)\n"
   ]
  },
  {
   "cell_type": "code",
   "execution_count": null,
   "id": "ae5914eb",
   "metadata": {},
   "outputs": [],
   "source": [
    "#sa\n",
    "\n",
    "#fluvial\n",
    "l1 = [18489542526.118042,\n",
    " 13786719955.694822,\n",
    " 26727212146.923477,\n",
    " 15720076445.341122,\n",
    " 2289920794.616355]\n",
    "l1s.append(l1)\n",
    "\n",
    "l2=[45329695001.572014,\n",
    " 8889907081.115767,\n",
    " 1540985993.1576538,\n",
    " 4653457.266656535,\n",
    " 0.0]\n",
    "l2s.append(l2)\n"
   ]
  },
  {
   "cell_type": "code",
   "execution_count": null,
   "id": "66c4bbb4",
   "metadata": {},
   "outputs": [],
   "source": [
    "sum(l1)"
   ]
  },
  {
   "cell_type": "code",
   "execution_count": null,
   "id": "a26088d8",
   "metadata": {},
   "outputs": [],
   "source": [
    "# au\n",
    "\n",
    "l1 = [15869198290.863245,\n",
    " 974767130.7095572,\n",
    " 23314114.5912808,\n",
    " 1432380.3893487994,\n",
    " 110450399.76283571]\n",
    "l1s.append(l1)\n",
    "\n",
    "\n",
    "l2=[11929201.178884065,\n",
    " 2679935.1682861596,\n",
    " 671427.3535527467,\n",
    " 1881.049626855462,\n",
    " 0.0]\n",
    "l2 = [i *1000 for i in l2]\n",
    "l2s.append(l2)\n",
    "np.sum(l1)"
   ]
  },
  {
   "cell_type": "code",
   "execution_count": null,
   "id": "7f7fbe60",
   "metadata": {},
   "outputs": [],
   "source": []
  },
  {
   "cell_type": "code",
   "execution_count": null,
   "id": "c2143899",
   "metadata": {},
   "outputs": [],
   "source": [
    "#af\n",
    "\n",
    "l1 = [26294106173.025497,\n",
    " 23609149813.36735,\n",
    " 16762050050.967857,\n",
    " 629058151.8146291,\n",
    " 3678634.4955713795]\n",
    "l1s.append(l1)\n",
    "\n",
    "l2 = [30591097.097434204,\n",
    " 22037383.424389534,\n",
    " 17132479.507036813,\n",
    " 654879.1994445655,\n",
    " 6537.980181630266]\n",
    "l2 = [i *1000 for i in l2]\n",
    "\n",
    "l2s.append(l2)\n"
   ]
  },
  {
   "cell_type": "code",
   "execution_count": null,
   "id": "e6d611f1",
   "metadata": {},
   "outputs": [],
   "source": [
    "sum(l1) /77013471868"
   ]
  },
  {
   "cell_type": "code",
   "execution_count": null,
   "id": "7d04b360",
   "metadata": {},
   "outputs": [],
   "source": [
    "sum(l2)"
   ]
  },
  {
   "cell_type": "code",
   "execution_count": null,
   "id": "f9bfe716",
   "metadata": {},
   "outputs": [],
   "source": [
    "l1sum = 0.0\n",
    "l2sum = 0.0\n",
    "for i in range(0,len(l1s)):\n",
    "    l1 = np.array(l1s[i])\n",
    "    l2 = np.array(l2s[i])\n",
    "    l1sum += l1\n",
    "    l2sum += l2"
   ]
  },
  {
   "cell_type": "code",
   "execution_count": null,
   "id": "dc30195d",
   "metadata": {},
   "outputs": [],
   "source": [
    "l2sum"
   ]
  },
  {
   "cell_type": "code",
   "execution_count": null,
   "id": "a8fc9f2c",
   "metadata": {},
   "outputs": [],
   "source": [
    "np.sum(l1sum+l2sum) / 1e9 / 100 * 2400 / 1000 "
   ]
  },
  {
   "cell_type": "code",
   "execution_count": null,
   "id": "f5b9a84a",
   "metadata": {},
   "outputs": [],
   "source": [
    "import matplotlib\n",
    "font = {'family' : 'normal',\n",
    "        'weight' : 'normal',\n",
    "        'size'   : 62}\n",
    "matplotlib.rc('font', **font)\n",
    "plt.figure(figsize=(15,10))\n",
    "\n",
    "plt.bar(range(0,3),(l1sum+l2sum)[[0,2,3]]/ 1e12 / 100 * 2700   * .51 * 2.3)\n",
    "plt.ylabel('Erosion rate (GT/Yr)')\n",
    "plt.xlabel('Local slope')\n",
    "plt.xticks([0,1,2])\n",
    "ax = plt.gca()\n",
    "\n",
    "ax.set_xticklabels(['0.01-.1','0.1-1','>1'])\n",
    "# ax2 = ax.twinx()\n",
    "# ax2.bar(range(3),l1sum[[0,1,2]],alpha=.5,color='r')\n",
    "\n",
    "#plt.yscale('log')"
   ]
  },
  {
   "cell_type": "code",
   "execution_count": null,
   "id": "d1656d10",
   "metadata": {},
   "outputs": [],
   "source": [
    "plt.bar()"
   ]
  },
  {
   "cell_type": "code",
   "execution_count": null,
   "id": "fd4cbef3",
   "metadata": {},
   "outputs": [],
   "source": [
    "np.sum([53849736042.111496,\n",
    " 34622039732.69555,\n",
    " 44429869448.106125,\n",
    " 12390034902.692486,\n",
    " 12954441805.785233]) *2400 *.5 /1e9 /1000 / 100 * 3"
   ]
  },
  {
   "cell_type": "code",
   "execution_count": null,
   "id": "8b98f551",
   "metadata": {},
   "outputs": [],
   "source": [
    "plt.figure(figsize=(7,5))\n",
    "\n",
    "plt.ylabel('Erosion contribution (Gt))')\n",
    "plt.xlabel('Elev range (m)')\n",
    "plt.bar(['0-','1000-2500','2500-4000','4000+'],l\n"
   ]
  },
  {
   "cell_type": "code",
   "execution_count": null,
   "id": "1d8faa90",
   "metadata": {},
   "outputs": [],
   "source": [
    "l[l<0] = 0"
   ]
  },
  {
   "cell_type": "code",
   "execution_count": null,
   "id": "21ce41b9",
   "metadata": {},
   "outputs": [],
   "source": [
    "np.save('/Volumes/T7/E',E)"
   ]
  },
  {
   "cell_type": "code",
   "execution_count": null,
   "id": "79767bc4",
   "metadata": {},
   "outputs": [],
   "source": [
    "np.save('/Volumes/T7/E',E)"
   ]
  },
  {
   "cell_type": "code",
   "execution_count": null,
   "id": "35241d52",
   "metadata": {},
   "outputs": [],
   "source": [
    "import geopandas as gpd"
   ]
  },
  {
   "cell_type": "code",
   "execution_count": null,
   "id": "d1c3c371",
   "metadata": {},
   "outputs": [],
   "source": []
  }
 ],
 "metadata": {
  "kernelspec": {
   "display_name": "Python 3 (ipykernel)",
   "language": "python",
   "name": "python3"
  },
  "language_info": {
   "codemirror_mode": {
    "name": "ipython",
    "version": 3
   },
   "file_extension": ".py",
   "mimetype": "text/x-python",
   "name": "python",
   "nbconvert_exporter": "python",
   "pygments_lexer": "ipython3",
   "version": "3.9.7"
  }
 },
 "nbformat": 4,
 "nbformat_minor": 5
}
